# 做完特徵工程前的所有準備
import pandas as pd
import numpy as np
import copy
from sklearn.preprocessing import LabelEncoder, MinMaxScaler
from sklearn.linear_model import LogisticRegression
from sklearn.ensemble import RandomForestClassifier
# 因為擬合(fit)與編碼(transform)需要分開, 因此不使用.get_dummy, 而採用 sklearn 的 OneHotEncoder
from sklearn.preprocessing import OneHotEncoder
from sklearn.model_selection import train_test_split
from sklearn.metrics import roc_curve
from google.colab import files
upload = files.upload()
df = pd.read_csv('titanic_train.csv')
train_Y = df['Survived']
df = df.drop(['PassengerId', 'Survived'] , axis=1)
df.head()

# 因為需要把類別型與數值型特徵都加入, 故使用最簡版的特徵工程
LEncoder = LabelEncoder()
MMEncoder = MinMaxScaler()
for c in df.columns:
  df[c] = df[c].fillna(-1)
  if df[c].dtype == 'object':
    df[c] = LEncoder.fit_transform(list(df[c].values))
  df[c] = MMEncoder.fit_transform(df[c].values.reshape(-1,1))
df.head()

train_X = df.values
# 因為訓練邏輯斯迴歸時也要資料, 因此將訓練及切成三部分 train / val / test, 採用 test 驗證而非 k-fold 交叉驗證
# train 用來訓練梯度提升樹, val 用來訓練邏輯斯迴歸, test 驗證效果
train_X, test_X, train_Y, test_Y = train_test_split(train_X, train_Y, test_size=0.5)
train_X, val_X, train_Y, val_Y = train_test_split(train_X, train_Y, test_size=0.5)

# 隨機森林擬合後, 再將葉編碼 (*.apply) 結果做獨熱 / 邏輯斯迴歸
rf = RandomForestClassifier(n_estimators=20,min_samples_split=10,min_samples_leaf=5,
                            max_features=4, max_depth=3, bootstrap=True)
onehot = OneHotEncoder()
lr = LogisticRegression(solver='lbfgs', max_iter=1000)

rf.fit(train_X,train_Y)
onehot.fit(rf.apply(train_X))
lr.fit(onehot.transform(rf.apply(val_X)),val_Y)

# 將隨機森林+葉編碼+邏輯斯迴歸結果輸出
pred_rf_lr = lr.predict_proba(onehot.transform(rf.apply(test_X)))[:,1]
fpr_rf_lr,tpr_rf_lr, _ =roc_curve(test_Y,pred_rf_lr)
# 將隨機森林+葉編碼+邏輯斯迴歸結果輸出
pred_rf_lr = rf.predict_proba(test_X)[:,1]
fpr_rf , tpr_rf, _ =roc_curve(test_Y,pred_rf)

import matplotlib.pyplot as plt
plt.plot([0,1],[0,1],'k--')
plt.plot(fpr_rf,tpr_rf,label='rf')
plt.plot(fpr_rf_lr,tpr_rf_lr,label='rf + LR')
plt.xlabel('False positive rate')
plt.ylabel('True positive rate')
plt.title('ROC curve')
plt.legend(loc='best')
plt.show()
