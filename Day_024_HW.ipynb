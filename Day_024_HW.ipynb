# 做完特徵工程前的所有準備 (與前範例相同)
import pandas as pd
import numpy as np
import copy, time
from sklearn.preprocessing import MinMaxScaler
from sklearn.model_selection import cross_val_score
from sklearn.linear_model import LogisticRegression
from sklearn.preprocessing import LabelEncoder

data_path = 'data/'
df_train = pd.read_csv(data_path + 'titanic_train.csv')
df_test = pd.read_csv(data_path + 'titanic_test.csv')

train_Y = df_train['Survived']
ids = df_test['PassengerId']
df_train = df_train.drop(['PassengerId', 'Survived'] , axis=1)
df_test = df_test.drop(['PassengerId'] , axis=1)
df = pd.concat([df_train,df_test])
df.head()

#只取類別值 (object) 型欄位, 存於 object_features 中
object_features = []
for dtype, feature in zip(df.dtypes, df.columns):
    if dtype == 'object':
        object_features.append(feature)
print(f'{len(object_features)} Numeric Features : {object_features}\n')

# 只留類別型欄位
df = df[object_features]
df = df.fillna('None')
train_num = train_Y.shape[0]
df.head()

# 標籤編碼 + 線性迴歸
df_temp = pd.DataFrame()
for c in df.columns:
  df_temp[c] = LabelEncoder().fit_transform(df[c])
train_X = df_temp[:train_num]
estimator =  LogisticRegression()
start = time.time()
print(f'shape : {train_X.shape}')
print(f'score : {cross_val_score(estimator, train_X, train_Y, cv=5).mean()}')
print(f'time : {time.time() - start} sec')

# 獨熱編碼 + 線性迴歸
df_temp = pd.get_dummies(df)
train_X = df_temp[:train_num]
estimator = LogisticRegression()
start = time.time()
print(f'shape : {train_X.shape}')
print(f'score : {cross_val_score(estimator, train_X, train_Y, cv=5).mean()}')
print(f'time : {time.time() - start} sec')

# 標籤編碼 + 梯度提升樹
from sklearn.ensemble import GradientBoostingRegressor
df_temp = pd.DataFrame()
for c in df.columns:
  df_temp[c] = LabelEncoder().fit_transform(df[c])
train_X = df_temp[:train_num]
estimator = GradientBoostingRegressor()
start = time.time()
print(f'shape : {train_X.shape}')
print(f'score : {cross_val_score(estimator, train_X, train_Y, cv=5).mean()}')
print(f'time : {time.time() - start} sec')

# 獨熱編碼 + 梯度提升樹
df_temp = pd.get_dummies(df)
train_X = df_temp[:train_num]
estimator = GradientBoostingRegressor()
start = time.time()
print(f'shape : {train_X.shape}')
print(f'score : {cross_val_score(estimator, train_X, train_Y, cv=5).mean()}')
print(f'time : {time.time() - start} sec')

'''
作業1
##觀察範例，在房價預測中調整標籤編碼(Label Encoder) / 獨熱編碼 (One Hot Encoder) 方式，對於線性迴歸以及梯度提升樹兩種模型，何者影響比較大?
就score 來看
# 獨熱編碼 + 梯度提升樹 > 標籤編碼 + 梯度提升樹 > 標籤編碼 + 線性迴歸 > 獨熱編碼 + 線性迴歸
就time 速度快 來看
# 標籤編碼 + 線性迴歸 >獨熱編碼 + 線性迴歸> 標籤編碼 + 梯度提升樹>獨熱編碼 + 梯度提升樹
線性迴歸對於獨熱編碼影響力比大,因為整個影響到score 的結果差異

作業2
鐵達尼號例題中，標籤編碼 / 獨熱編碼又分別對預測結果有何影響?
在鐵達尼號例題中線性迴歸反而有比好的score
而梯度提升樹對 獨熱編碼則讓度速變的很慢,但score表現結果未必比較好
'''
