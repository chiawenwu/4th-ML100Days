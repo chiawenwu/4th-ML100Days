import pandas as pd
import numpy as np

# 讀取訓練與測試資料
data_path = 'data/'
df_train = pd.read_csv(data_path + 'titanic_train.csv')
df_test = pd.read_csv(data_path + 'titanic_test.csv')
df_train.shape

df_test.shape
print(df_train.head())
print(df_test.head())

train_Y = np.log1p(df_train['SalePrice'])
ids = df_test['Id']
df_train = df_train.drop(['Id','SalePrice'],axis=1)
df_test = df_test.drop(['Id'],axis = 1)
df = pd.concat([df_train,df_test])
df.head()

dtype_df = df.dtypes.reset_index() 
dtype_df.columns = ["Count", "Column Type"]
dtype_df = dtype_df.groupby("Column Type").aggregate('count').reset_index()
dtype_df


int_features = []
float_features =[]
object_features =[]
for dtype,feature in zip(df.dtypes,df.columns):
  if dtype == 'float64':
    float_features.append(feature)
  elif dtype == 'int64':
    int_features.append(feature)
  else:
    object_features.append(feature)

print(f'{len(int_features)} Integer Features : {int_features}\n')
print(f'{len(float_features)} Float Features : {float_features}\n')
print(f'{len(object_features)} Object Features : {object_features}')
df[float_features].head()
print("np.mean(df[float_features]:",np.mean(df[float_features]))
print("np.max(df[float_features]:",np.max(df[float_features]))
print("df[float_features].nunique:",df[float_features].nunique())


print("-----np.mean(df[int_features]--------")
print(np.mean(df[int_features]))
print("-----np.max(df[int_features]---------")
print(np.max(df[int_features]))
print("-----df[int_features].nunique--------")
print(df[int_features].nunique())


print("-----np.mean(df[object_features]--------")
print(np.mean(df[object_features]))
print("-----np.max(df[object_features]---------")
print(np.max(df[object_features]))
print("-----df[object_features].nunique--------")
print(df[object_features].nunique())
print("""
( 平均 mean / 最大值 Max / 相異值 nunique ) 中的九次操作中
object的型態最難處的,因為object包含了非int及float以外的型態
以np.mean(df[object_features]--------
Error:Series([], dtype: float64)無法處理需另外處理
""")
print("""
作業2 object為最難處理,因為資料型態不固定可能是另一個Objet或string或Series[]....
等需要另外單獨做處理
""")
