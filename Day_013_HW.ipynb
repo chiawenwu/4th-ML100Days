import os
import numpy as np
import pandas as pd
import matplotlib.pyplot as plt
# 設定 data_path
dir_data = './data/'
f_app = os.path.join(dir_data, 'application_train.csv')
print('Path of read in data: %s' % (f_app))
app_train = pd.read_csv(f_app)
app_train.head()

from pandas import DataFrame
import numpy as np
CNT_CH_GN = np.array(['Zero','Onetwo','Onetwo','threefive','threefive','threefive'])
CNT_CH_G = np.array([0, 1, 2, 3, 4,5])
app_train['CNT_CHILDREN'].groupby([CNT_CH_GN,CNT_CH_G]).mean()
