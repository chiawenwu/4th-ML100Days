import os
import numpy as np
import pandas as  pd
import matplotlib.pyplot as plt

dir_data = './data/'
f_app_train = os.path.join(dir_data,'application_train.csv')
import matplotlib.pyplot as plt

app_train = pd.read_csv(f_app_train)
#print(app_train)
print('AMT_INCOME_TOTAL 平均值:',np.mean(app_train['AMT_INCOME_TOTAL']))
print('AMT_INCOME_TOTAL 標準差:',np.std(app_train['AMT_INCOME_TOTAL']))

code_gendergb=app_train.groupby('CODE_GENDER')#.count()
gendergb =app_train.loc[:,'CODE_GENDER']
print('gendergb')
print(code_gendergb)
agg = code_gendergb['AMT_CREDIT'].agg([np.sum,np.mean,np.std])
print(agg)
cod_count =code_gendergb.count()
#cod_count = app_train.groupby(['CODE_GENDER'], as_index=False)['CNT_CHILDREN'].count()

print(cod_count)


y1 = [cod_count.iloc[0,0],cod_count.iloc[1,0],cod_count.iloc[2,0]]
print("y1:",y1)
x1 = ['F','M','XNA']
plt.bar(x1,y1)
plt.legend()
plt.show()
