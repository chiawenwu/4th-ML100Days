import numpy as np
import pandas as pd

import matplotlib.pyplot as plt
ages = pd.DataFrame({"age": [18,22,25,27,7,21,23,37,30,61,45,41,9,18,80,100]})
bins = [1, 10, 20, 30, 50,100]
ages["equal_width_age"] = pd.cut(ages["age"], bins,right=False)

ages["equal_width_age"].value_counts()
