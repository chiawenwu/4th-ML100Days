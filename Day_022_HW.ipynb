import pandas as pd
import numpy as np
from sklearn.preprocessing import LabelEncoder, MinMaxScaler

data_path = 'data/'
df_train = pd.read_csv(data_path + 'titanic_train.csv')
df_test = pd.read_csv(data_path + 'titanic_test.csv')
df_train.shape
train_Y = df_train['Survived']
ids = df_test['PassengerId']
df_train = df_train.drop(['PassengerId', 'Survived'] , axis=1)
df_test = df_test.drop(['PassengerId'],axis = 1)
df = pd.concat([df_train,df_test])
df.head()
LEncoder =LabelEncoder()
MMEncoder = MinMaxScaler()
for c in df.columns:
  df[c] = df[c].fillna(-1)
  if df[c].dtype == 'object':
    df[c] = LEncoder.fit_transform(list(df[c].values))
  df[c] = MMEncoder.fit_transform(df[c].values.reshape(-1, 1))
df.head()
train_num = train_Y.shape[0]
train_X = df[:train_num]
test_X =df[train_num:]

from sklearn.linear_model import LogisticRegression
estimator = LogisticRegression()
estimator.fit(train_X,train_Y)
pred = estimator.predict(test_X)

sub = pd.DataFrame({'PassengerId': ids, 'Survived': pred})
sub.to_csv('titanic_baseline.csv', index=False) 
'''
#下列A~E五個程式區塊中，哪一塊是特徵工程? ANS:B

#對照程式區塊 B 與 C 的結果，請問那些欄位屬於"類別型欄位"? (回答欄位英文名稱即可)
ans:Sex,SibSp,Embarked
'''
