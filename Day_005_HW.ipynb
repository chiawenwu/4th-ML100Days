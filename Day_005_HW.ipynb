import pandas as pd
import numpy as np
import random 
countrys =['Taiwan','United States','Thaliand']
populations = [random.randint(10,2000000000),random.randint(10,2000000000),random.randint(10,2000000000)]
list_labels=['國家    ','人口     ']
list_cols=[countrys,populations]
zipped = list(zip(list_labels,list_cols))
visitor_3 = pd.DataFrame(dict(zipped))
print(visitor_3)
