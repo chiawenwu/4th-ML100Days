from sklearn import datasets, metrics
from sklearn.ensemble import GradientBoostingClassifier
from sklearn.model_selection import train_test_split


digits =datasets.load_digits()

x_train,x_test,y_train,y_test = train_test_split(digits.data,digits.target,test_size=0.25,random_state=4)

clf = GradientBoostingClassifier()
clf.fit(x_train,y_train)

y_pred = clf.predict(x_test)
acc = metrics.accuracy_score(y_test,y_pred)
print("Acuuracy: ", acc)


Acuuracy:  0.9688888888888889
