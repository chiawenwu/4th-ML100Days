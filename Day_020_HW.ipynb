import os
import numpy as np
import matplotlib.pyplot as plt
plt.style.use('ggplot')
matrix = (np.random.random((10,10))-0.5)*2
import seaborn as sns
plt.figure(figsize=(10,10))

heatmap = sns.heatmap(matrix, cmap = plt.cm.RdYlBu_r, vmin = -1., vmax = 1., annot = True)
plt.show()

import pandas as pd
nrow = 1000
ncol = 3

matrix =(np.random.random((1000,3))-0.5) * 0.2
indice = np.random.choice([0,1,2], size=nrow)
plot_data = pd.DataFrame(matrix, indice).reset_index()
grid = sns.PairGrid(data = plot_data, size = 3, diag_sharey=False, 
                    hue = 'index', vars = [x for x in list(plot_data.columns) if x != 'index'])
grid.map_upper(plt.scatter, alpha = 0.2)
grid.map_diag(sns.kdeplot)
grid.map_lower(sns.kdeplot, cmap = plt.cm.OrRd_r)

plt.show()

nrow = 1000
ncol = 3

matrix = np.random.randn(nrow * ncol).reshape((nrow, ncol))
indice = np.random.choice([0,1,2],size=nrow)
plot_data = pd.DataFrame(matrix,indice).reset_index()

grid = sns.PairGrid(data = plot_data, size = 3, diag_sharey=False,
                    hue = 'index', vars = [x for x in list(plot_data.columns) if x != 'index'])

grid.map_upper(plt.scatter, alpha = 0.2)
grid.map_diag(sns.kdeplot)
grid.map_lower(sns.kdeplot, cmap = plt.cm.OrRd_r)

plt.show()
