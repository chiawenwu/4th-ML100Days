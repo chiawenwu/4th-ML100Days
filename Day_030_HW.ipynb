import pandas as pd

import copy
from sklearn.preprocessing import MinMaxScaler
from sklearn.model_selection import cross_val_score
from sklearn.linear_model import LinearRegression
from sklearn.ensemble import GradientBoostingRegressor
from google.colab import files
uploaded = files.upload()
import pandas as pd
df = pd.read_csv('titanic_train.csv')
train_Y = df['Survived']
df = df.drop(['PassengerId'] , axis=1)
df.head()

import seaborn as sns
import matplotlib.pyplot as plt
corr = df.corr()
sns.heatmap(corr)
plt.show()

df = df.drop(['Survived'] , axis=1)
num_features = []
for dtype,feature in zip(df.dtypes,df.columns):
  if dtype == 'float64' or dtype == 'int64':
    num_features.append(feature)
print(f'{len(num_features)} Numeric Features : {num_features}\n')

# 削減文字型欄位, 只剩數值型欄位
df = df[num_features]
df = df.fillna(-1)
MMEncoder = MinMaxScaler()
df.head()

df = df.drop(['Survived'] , axis=1)
num_features = []
for dtype,feature in zip(df.dtypes,df.columns):
  if dtype == 'float64' or dtype == 'int64':
    num_features.append(feature)
print(f'{len(num_features)} Numeric Features : {num_features}\n')

# 削減文字型欄位, 只剩數值型欄位
df = df[num_features]
df = df.fillna(-1)
MMEncoder = MinMaxScaler()
df.head()

train_X = MMEncoder.fit_transform(df)
estimator = LogisticRegression()
cross_val_score(estimator,train_X,train_Y,cv=5).mean()
  
high_list = list(corr[(corr['Age']>0.1) | (corr['Age']<-0.1)].index)
high_list.pop(-1)
print(high_list)  

train_X = MMEncoder.fit_transform(df[high_list])
cross_val_score(estimator, train_X, train_Y, cv=5).mean()

high_list = list(corr[(corr['Fare']>0.1) | (corr['Fare']<-0.1)].index)
high_list.pop(-1)
print(high_list)

