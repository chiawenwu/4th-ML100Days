import os
import numpy as np
import pandas as pd
import matplotlib.pyplot as plt

%matplotlib inline

# 設定 data_path
dir_data = './data/'
f_app = os.path.join(dir_data, 'application_train.csv')
print('Path of read in data: %s' % (f_app))
app_train = pd.read_csv(f_app)
app_train.head()
(app_train['AMT_INCOME_TOTAL']).describe()
plt.hist(app_train['AMT_INCOME_TOTAL'])
plt.show()
app_train['AMT_INCOME_TOTAL'].value_counts
amt_anom = app_train[app_train['AMT_INCOME_TOTAL'] == 135000]
amt_nonanom = app_train[app_train['AMT_INCOME_TOTAL'] != 135000]
print('The non-anomalies default on %0.2f%% of loans' % (100 * amt_nonanom['TARGET'].mean()))
print('The anomalies default on %0.2f%% of loans' % (100 * amt_anom['TARGET'].mean()))
print('There are %d anomalous days of employment' % len(amt_anom))
sum(app_train['AMT_INCOME_TOTAL'] == 135000)/len(app_train)
app_train['AMT_INCOME_ANOM'] =app_train['AMT_INCOME_TOTAL'] == 135000
print(app_train['AMT_INCOME_ANOM'].value_counts())

app_train['AMT_INCOME_ANOM'].replace({135000:np.mean},inplace = True)
data=app_train['AMT_INCOME_ANOM'].astype(float)
#app_train['AMT_INCOME_ANOM'].plot.hist(title = 'AMT_INCOME_ANOM')
data.plot.hist(title = 'AMT_INCOME_ANOM')
plt.xlabel('AMT_INCOME_ANOM')

plt.hist(app_train[~app_train.AMT_CREDIT.isnull()]['AMT_CREDIT'])
plt.show()
app_train['AMT_CREDIT'].value_counts()

app_train[app_train['AMT_CREDIT'] >450000]['AMT_CREDIT'].value_counts()
print("Target of AMT_CREDIT >= 450000: %.2f%%" % (app_train[app_train['AMT_CREDIT'] >= 50 ]['TARGET'].mean() * 100 ))
print("Target of AMT_CREDIT < 450000: %.2f%%" % (app_train[app_train['AMT_CREDIT'] < 50]['TARGET'].mean() * 100))
