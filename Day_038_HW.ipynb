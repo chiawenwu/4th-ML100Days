import numpy as np
import matplotlib.pyplot as plt
from sklearn import datasets, linear_model
from sklearn.model_selection import train_test_split
wine = datasets.load_wine()
# 切分訓練集/測試集
x_train, x_test, y_train, y_test = train_test_split(wine.data, wine.target, test_size=0.1, random_state=4)

# 建立模型
logreg = linear_model.LogisticRegression()

# 訓練模型
logreg.fit(x_train, y_train)

# 預測測試集
y_pred = logreg.predict(x_test)
acc = accuracy_score(y_test, y_pred)
print("Accuracy: ", acc)
from sklearn.metrics import mean_squared_error, r2_score, accuracy_score


from sklearn import datasets, linear_model
from sklearn.model_selection import train_test_split
from sklearn.metrics import mean_squared_error, r2_score, accuracy_score
boston  = datasets.load_boston()
# 切分訓練集/測試集
x_train,y_train,x_test, y_test = train_test_split(boston['data'], boston['target'], test_size=0.1, random_state=4)

# 建立模型
logreg = linear_model.LinearRegression()


# 訓練模型
logreg.fit(x_train, y_train)

# 預測測試集
y_pred = logreg.predict(x_test)
acc = accuracy_score(y_test, y_pred)
print("Accuracy: ", acc)

from sklearn import datasets, linear_model
from sklearn.model_selection import train_test_split
from sklearn.metrics import mean_squared_error, r2_score, accuracy_score
boston  = datasets.load_boston()
breast_cancer = datasets.load_breast_cancer()

# 切分訓練集/測試集
x_train, x_test, y_train, y_test = train_test_split(breast_cancer.data, breast_cancer.target, test_size=0.1, random_state=4)

# 建立模型
logreg =  linear_model.LogisticRegression()

# 訓練模型
logreg.fit(x_train, y_train)

# 預測測試集
y_pred = logreg.predict(x_test)
acc = accuracy_score(y_test, y_pred)
print("Accuracy: ", acc)
