# 載入需要的套件
import os
import numpy as np
import pandas as pd
import matplotlib.pyplot as plt
import seaborn as sns # 另一個繪圖-樣式套件

# 忽略警告訊息

plt.style.use('ggplot')
import warnings
warnings.filterwarnings('ignore')

# 設定 data_path
dir_data = './data/'

# 讀取檔案
f_app = os.path.join(dir_data, 'application_train.csv')
print('Path of read in data: %s' % (f_app))
app_train = pd.read_csv(f_app)
HOUSETYPE_data = app_train['HOUSETYPE_MODE'] # subset
#print(HOUSETYPE_data) # subset

unique_house_type =app_train.groupby("HOUSETYPE_MODE")
nrows = len(unique_house_type)
ncosl = nrows // 2
plt.figure(figsize=(10,30))
for i in range(len(unique_house_type)):
    plt.subplot(nrows,ncosl,i+1)
