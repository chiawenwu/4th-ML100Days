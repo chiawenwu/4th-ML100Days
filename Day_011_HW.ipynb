import os
import numpy as np
import pandas as pd
import matplotlib.pyplot as plt
dir_data = './data/'
f_app = os.path.join(dir_data, 'application_train.csv')
print('Path of read in data: %s' % (f_app))
app_train = pd.read_csv(f_app)
app_train.head()

app_train['AMT_ANNUITY'].describe()
q_100 = list(range(101))
q_all = [np.percentile(app_train[~app_train['AMT_ANNUITY'].isnull()]['AMT_ANNUITY'], q = i)for i in q_100]
pd.DataFrame({'q':list(range(101)),'value':q_all})
print("Before replace NAs, numbers of row that AMT_ANNUITY is NAs: %i" % sum(app_train['AMT_ANNUITY'].isnull()))
q_50 = np.median(app_train[~app_train['AMT_ANNUITY'].isnull()]['AMT_ANNUITY'])
app_train.loc[app_train['AMT_ANNUITY'].isnull(),'AMT_ANNUITY'] = q_50
print("After replace NAs, numbers of row that AMT_ANNUITY is NAs: %i" % sum(app_train['AMT_ANNUITY'].isnull()))

print('== Original data range ==')
print(app_train['AMT_ANNUITY'].describe())
app_min =min(app_train['AMT_ANNUITY'].values)
app_max =max(app_train['AMT_ANNUITY'].values)

def normalize_value(v):
  x = (v - app_min) / (app_max - app_min)
  return x

app_train['AMT_ANNUITY_NORMALIZED'] = normalize_value(app_train['AMT_ANNUITY'])

print("== Normalized data range ==")
app_train['AMT_ANNUITY_NORMALIZED'].describe()

print("Before replace NAs, numbers of row that AMT_GOODS_PRICE is NAs: %i" % sum(app_train['AMT_GOODS_PRICE'].isnull()))
from  collections import defaultdict
from scipy.stats import mode
import time
start_time = time.time()
mode_dict = defaultdict(lambda:0)


value_most = mode(app_train[~app_train['AMT_GOODS_PRICE'].isnull()]['AMT_GOODS_PRICE'])
print(value_most)

mode_goods_price = list(app_train['AMT_GOODS_PRICE'].value_counts().index)
app_train.loc[app_train['AMT_GOODS_PRICE'].isnull(), 'AMT_GOODS_PRICE'] = mode_goods_price[0]

print("After replace NAs, numbers of row that AMT_GOODS_PRICE is NAs: %i" % sum(app_train['AMT_GOODS_PRICE'].isnull()))
