import numpy as np
X = np.arange(1000).reshape(200,5)
y = np.zeros(200)
y[:40] = 1
y

from sklearn.model_selection import train_test_split, KFold
kf = KFold(n_splits = 10)
i = 0 
for train_index,test_index in kf.split(X):
  i +=1
  X_train,X_test = X[train_index],X[test_index]
  y_train,y_test = y[train_index],y[test_index]
  print("FOLD {}: ".format(i))
  print("X_test: ", X_test)
  print("Y_test: ", y_test)
