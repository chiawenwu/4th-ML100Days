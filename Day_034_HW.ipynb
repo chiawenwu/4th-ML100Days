import numpy as np
X = np.arange(1000).reshape(200,5)
y = np.zeros(200)
y[:40] = 1
y

from sklearn.model_selection import train_test_split, KFold
y_1_index, y_0_index = np.where(y==1)[0], np.where(y==0)[0]
y_1_index


train_data_y1, test_data_y1, train_label_y1, test_label_y1 = train_test_split(X[y_1_index], y[y_1_index], test_size=10)
train_data_y0, test_data_y0, train_label_y0, test_label_y0 = train_test_split(X[y_0_index], y[y_0_index], test_size=10)

x_train, y_train = np.concatenate([train_data_y1, train_data_y0]), np.concatenate([train_label_y1, train_label_y0])

x_test, y_test = np.concatenate([test_data_y1, test_data_y0]), np.concatenate([test_label_y1, test_label_y0])
