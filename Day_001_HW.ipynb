import numpy as np
import matplotlib.pyplot as plt
w = 3
b = 0.5
x_lin = np.linspace(0,100,101)
y = (x_lin + np.random.randn(101) * 5)*w+b
##plt.plot(x_lin,y,'b.',label = 'data points')
plt.title("Assume we have data points")
plt.legend(loc = 2)
##plt.show()

y_hat = x_lin * w + b
plt.plot(x_lin,y,'b.',label = 'data')
plt.plot(x_lin,y_hat,'r-',label='prediction')
plt.title("Asums we have data poits(And the prediction)")
plt.legend(loc = 2)
plt.show()

def mean_absolute_error(y,yp):
  mae = MAE = sum(abs(y-yp))/len(y)

  return mae
MAE = mean_absolute_error(y,y_hat)
print("The Mean absolute error is %3f" % (MAE))

def mean_square_error(y,yp):
  mse = MSE = np.sum((yp-y)**2)/len(y)
  return mse

MSE = mean_square_error(y,y_hat)
print("The Mse square error is %.3f" % (MSE))

#Beehive Metrics蜜蜂在生態系統中起著至關重要的作用。
#我們所有食物的三分之一取決於它們的授粉。一個沒有授粉媒介的世界將毀滅性的糧食生產。
#資料從何而來:提供了蜂巢維爾茨堡的一年數據（2017）

