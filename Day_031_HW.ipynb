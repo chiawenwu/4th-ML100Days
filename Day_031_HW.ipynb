import pandas as pd
import numpy as np
import copy
from sklearn.preprocessing import LabelEncoder, MinMaxScaler
from sklearn.model_selection import cross_val_score
from sklearn.ensemble import RandomForestClassifier
from google.colab import files
uploaded = files.upload()
df = pd.read_csv('titanic_train.csv')
train_Y = df['Survived']
df = df.drop(['PassengerId','Survived'], axis = 1)
df.head()

LEncoder = LabelEncoder()
MMEncoder = MinMaxScaler()
for c in df.columns:
  df[c] = df[c].fillna(-1)
  if df[c].dtype =='object':
    df[c] = LEncoder.fit_transform(list(df[c].values))
  df[c] = MMEncoder.fit_transform(df[c].values.reshape(-1,1))
df.head()

# 隨機森林擬合後, 將結果依照重要性由高到低排序
estimator = RandomForestClassifier()
estimator.fit(df.values, train_Y)
feats = pd.Series(data=estimator.feature_importances_, index=df.columns)
feats = feats.sort_values(ascending=False)
feats

import seaborn as sns
import matplotlib.pyplot as plt
corr = df.corr()

high_feature = list(corr[(corr['Sex']>0.1)].index)
print(high_feature)

# 高重要性特徵 + 隨機森林
train_X = MMEncoder.fit_transform(df[high_feature])
cross_val_score(estimator,train_X,train_Y,cv=5).mean()

train_X = MMEncoder.fit_transform(df)
cross_val_score(estimator,train_X,train_Y,cv=5).mean()

# 觀察重要特徵與目標的分布
# 第一名       
import seaborn as sns
import matplotlib.pyplot as plt
sns.regplot(x=train_Y, y=df['1st_char'], fit_reg=False)
plt.show()
