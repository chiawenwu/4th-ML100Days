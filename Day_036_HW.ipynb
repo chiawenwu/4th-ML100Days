import numpy as np
y_pred = np.random.randint(2,size=100)# 生成 100 個隨機的 0 / 1 prediction
y_true = np.random.randint(2,size=100)# 生成 100 個隨機的 0 / 1 ground truth
print(y_pred)

def custom_fbeta_score(y_true,y_pred,beta=1):
    precision = precision_score(y_true,y_pred)
    recall = recall_score(y_true,y_pred)
    fbeta = (1 +(beta)**2) * (precision*recall) /  (((beta)**2*precision) + recall)
    return fbeta
print(custom_fbeta_score(y_true, y_pred, beta=2))

print(fbeta_score(y_true, y_pred, beta=2))
